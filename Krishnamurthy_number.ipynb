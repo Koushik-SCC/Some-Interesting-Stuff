{
  "nbformat": 4,
  "nbformat_minor": 0,
  "metadata": {
    "colab": {
      "name": "Untitled2.ipynb",
      "provenance": [],
      "authorship_tag": "ABX9TyNjbEYtqXWUrkXj/BzVnJxz",
      "include_colab_link": true
    },
    "kernelspec": {
      "name": "python3",
      "display_name": "Python 3"
    },
    "language_info": {
      "name": "python"
    }
  },
  "cells": [
    {
      "cell_type": "markdown",
      "metadata": {
        "id": "view-in-github",
        "colab_type": "text"
      },
      "source": [
        "<a href=\"https://colab.research.google.com/github/Koushik-SCC/Some-Interesting-Stuff/blob/main/Krishnamurthy_number.ipynb\" target=\"_parent\"><img src=\"https://colab.research.google.com/assets/colab-badge.svg\" alt=\"Open In Colab\"/></a>"
      ]
    },
    {
      "cell_type": "code",
      "execution_count": 19,
      "metadata": {
        "colab": {
          "base_uri": "https://localhost:8080/"
        },
        "id": "AAT2nI3SDprT",
        "outputId": "0e5c8f7f-c68f-4b0e-c46e-c4b04377e2f5"
      },
      "outputs": [
        {
          "output_type": "stream",
          "name": "stdout",
          "text": [
            "Enter a number: 90\n",
            "It's not a Krisnamurti number.\n"
          ]
        }
      ],
      "source": [
        "x = str(eval(input('Enter a number: ')))\n",
        "y = []\n",
        "z = []\n",
        "for i in x:\n",
        "  a = int(i)\n",
        "  y.append(a)\n",
        "for j in y:\n",
        "  t = 1\n",
        "  for q in range(1,j+1):\n",
        "    t *= q\n",
        "  z.append(t)\n",
        "  s = 0\n",
        "for b in z:\n",
        "  s +=b\n",
        "if s == int(x):\n",
        "  print(\"It's a Krisnamurti number.\")\n",
        "else:\n",
        "  print(\"It's not a Krisnamurti number.\")"
      ]
    }
  ]
}