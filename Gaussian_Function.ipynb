{
  "nbformat": 4,
  "nbformat_minor": 0,
  "metadata": {
    "colab": {
      "name": "Gaussian Function.ipynb",
      "provenance": [],
      "collapsed_sections": [],
      "authorship_tag": "ABX9TyOXnQxamHoowyl6nnHVx6uN",
      "include_colab_link": true
    },
    "kernelspec": {
      "name": "python3",
      "display_name": "Python 3"
    },
    "language_info": {
      "name": "python"
    }
  },
  "cells": [
    {
      "cell_type": "markdown",
      "metadata": {
        "id": "view-in-github",
        "colab_type": "text"
      },
      "source": [
        "<a href=\"https://colab.research.google.com/github/Koushik-SCC/Some-Interesting-Stuff/blob/main/Gaussian_Function.ipynb\" target=\"_parent\"><img src=\"https://colab.research.google.com/assets/colab-badge.svg\" alt=\"Open In Colab\"/></a>"
      ]
    },
    {
      "cell_type": "markdown",
      "metadata": {
        "id": "IAOb9owxUm_s"
      },
      "source": [
        "# **Using quad**"
      ]
    },
    {
      "cell_type": "code",
      "metadata": {
        "colab": {
          "base_uri": "https://localhost:8080/"
        },
        "id": "41F6bo9kU-H8",
        "outputId": "e60c0321-68c2-43b1-ebb4-7778dbdcbf29"
      },
      "source": [
        "import numpy as np\n",
        "from scipy.integrate import *\n",
        "mu = eval(input('Enter the average value : '))\n",
        "sig = eval(input('Enter Standard Deviation : '))\n",
        "def G(x):\n",
        "    g = (1.0/(sig*np.sqrt(2*np.pi)))*np.exp(-((x-mu)**2)/(2*sig**2))\n",
        "    return g\n",
        "print(quad(G,-np.inf,np.inf))"
      ],
      "execution_count": null,
      "outputs": [
        {
          "output_type": "stream",
          "name": "stdout",
          "text": [
            "Enter the average value : 1\n",
            "Enter Standard Deviation : 0.5\n",
            "(1.0000000000000002, 1.260274955938515e-10)\n"
          ]
        }
      ]
    },
    {
      "cell_type": "markdown",
      "metadata": {
        "id": "3_UudS6wWx6V"
      },
      "source": [
        "*plotting*"
      ]
    },
    {
      "cell_type": "code",
      "metadata": {
        "colab": {
          "base_uri": "https://localhost:8080/",
          "height": 334
        },
        "id": "EzB587zGW2-T",
        "outputId": "186fc198-35e4-489a-a643-be952a14f44a"
      },
      "source": [
        "import numpy as np\n",
        "import matplotlib.pyplot as plt\n",
        "from scipy.integrate import *\n",
        "mu = eval(input('Enter the average value : '))\n",
        "sig = eval(input('Enter Standard Deviation : '))\n",
        "def G(x):\n",
        "    g = (1.0/(sig*np.sqrt(2*np.pi)))*np.exp(-((x-mu)**2)/(2*sig**2))\n",
        "    return g\n",
        "x = np.linspace(mu-5*sig,mu+5*sig,1000)\n",
        "I,e = quad(G,-np.inf,np.inf)\n",
        "print('Value of the Integral =',I,'\\nError in Calculation : ',e)\n",
        "plt.plot(x,G(x))\n",
        "plt.show()"
      ],
      "execution_count": null,
      "outputs": [
        {
          "output_type": "stream",
          "name": "stdout",
          "text": [
            "Enter the average value : 1\n",
            "Enter Standard Deviation : 1\n",
            "Value of the Integral = 1.0000000000000004 \n",
            "Error in Calculation :  2.6666852970052494e-09\n"
          ]
        },
        {
          "output_type": "display_data",
          "data": {
            "image/png": "[encoded data removed]",
            "text/plain": [
              "<Figure size 432x288 with 1 Axes>"
            ]
          },
          "metadata": {
            "needs_background": "light"
          }
        }
      ]
    },
    {
      "cell_type": "markdown",
      "metadata": {
        "id": "fIBjV-QzZzir"
      },
      "source": [
        "**value over a different integration region**"
      ]
    },
    {
      "cell_type": "markdown",
      "metadata": {
        "id": "-k8xxjbFde1_"
      },
      "source": [
        "region [mu-sig,mu+sig]"
      ]
    },
    {
      "cell_type": "code",
      "metadata": {
        "colab": {
          "base_uri": "https://localhost:8080/",
          "height": 334
        },
        "id": "4m6i_6GNaI1s",
        "outputId": "9110489a-36ed-4e1a-adad-11dc0c78e7f7"
      },
      "source": [
        "import numpy as np\n",
        "import matplotlib.pyplot as plt\n",
        "from scipy.integrate import *\n",
        "mu = eval(input('Enter the average value : '))\n",
        "sig = eval(input('Enter Standard Deviation : '))\n",
        "def G(x):\n",
        "    g = (1.0/(sig*np.sqrt(2*np.pi)))*np.exp(-((x-mu)**2)/(2*sig**2))\n",
        "    return g\n",
        "x = np.linspace(mu-5*sig,mu+5*sig,1000)\n",
        "I,e = quad(G,mu-sig,mu+sig)\n",
        "print('Value of the Integral or area under the curve =',I,'\\nError in Calculation : ',e)\n",
        "plt.plot(x,G(x))\n",
        "plt.fill_between(x,0,G(x),where=(x>=mu-sig)&(x<=mu+sig))\n",
        "plt.show()"
      ],
      "execution_count": null,
      "outputs": [
        {
          "output_type": "stream",
          "name": "stdout",
          "text": [
            "Enter the average value : 4.5\n",
            "Enter Standard Deviation : 2\n",
            "Value of the Integral or area under the curve = 0.682689492137086 \n",
            "Error in Calculation :  7.579375928402476e-15\n"
          ]
        },
        {
          "output_type": "display_data",
          "data": {
            "image/png": "[encoded data removed]",
            "text/plain": [
              "<Figure size 432x288 with 1 Axes>"
            ]
          },
          "metadata": {
            "needs_background": "light"
          }
        }
      ]
    },
    {
      "cell_type": "markdown",
      "metadata": {
        "id": "EgKhKG_ePEgE"
      },
      "source": [
        "region[mu-2sig,mu+2sig]"
      ]
    },
    {
      "cell_type": "code",
      "metadata": {
        "colab": {
          "base_uri": "https://localhost:8080/",
          "height": 334
        },
        "id": "wPcsvRuXPSMj",
        "outputId": "da5ab5d8-c3cd-44d1-bd15-2e0cfa32b3d8"
      },
      "source": [
        "import numpy as np\n",
        "import matplotlib.pyplot as plt\n",
        "from scipy.integrate import *\n",
        "mu = eval(input('Enter the average value : '))\n",
        "sig = eval(input('Enter Standard Deviation : '))\n",
        "def G(x):\n",
        "    g = (1.0/(sig*np.sqrt(2*np.pi)))*np.exp(-((x-mu)**2)/(2*sig**2))\n",
        "    return g\n",
        "x = np.linspace(mu-5*sig,mu+5*sig,1000)\n",
        "I,e = quad(G,mu-2*sig,mu+2*sig)\n",
        "print('Value of the Integral or the area under the curve =',I,'\\nError in Calculation : ',e)\n",
        "plt.plot(x,G(x))\n",
        "plt.fill_between(x,0,G(x),where=(x>=mu-2*sig)&(x<=mu+2*sig))\n",
        "plt.show()"
      ],
      "execution_count": null,
      "outputs": [
        {
          "output_type": "stream",
          "name": "stdout",
          "text": [
            "Enter the average value : 7.23\n",
            "Enter Standard Deviation : 1.023\n",
            "Value of the Integral or the area under the curve = 0.9544997361036417 \n",
            "Error in Calculation :  1.840357719228579e-11\n"
          ]
        },
        {
          "output_type": "display_data",
          "data": {
            "image/png": "[encoded data removed]",
            "text/plain": [
              "<Figure size 432x288 with 1 Axes>"
            ]
          },
          "metadata": {
            "needs_background": "light"
          }
        }
      ]
    },
    {
      "cell_type": "markdown",
      "metadata": {
        "id": "UcYloGKNUXHt"
      },
      "source": [
        "# **Using simps**"
      ]
    },
    {
      "cell_type": "code",
      "metadata": {
        "colab": {
          "base_uri": "https://localhost:8080/"
        },
        "id": "hqqYcMEIUgr8",
        "outputId": "63f590ba-42d2-408c-b05e-303b138177f9"
      },
      "source": [
        "import numpy as np\n",
        "import matplotlib.pyplot as plt\n",
        "from scipy.integrate import *\n",
        "mu = eval(input('Enter the average value : '))\n",
        "sig = eval(input('Enter Standard Deviation : '))\n",
        "def G(x):\n",
        "    g = (1.0/(sig*np.sqrt(2*np.pi)))*np.exp(-((x-mu)**2)/(2*sig**2))\n",
        "    return g\n",
        "x = np.linspace(mu-5*sig,mu+5*sig)    #we should not use the range [-infinity to + infinity] as it's a array\n",
        "print('Value of the Integral = ',simps(G(x),x))"
      ],
      "execution_count": null,
      "outputs": [
        {
          "output_type": "stream",
          "name": "stdout",
          "text": [
            "Enter the average value : 2.5\n",
            "Enter Standard Deviation : 1\n",
            "Value of the Integral =  0.9999994627045221\n"
          ]
        }
      ]
    }
  ]
}