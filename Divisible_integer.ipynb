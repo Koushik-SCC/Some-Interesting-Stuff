{
  "nbformat": 4,
  "nbformat_minor": 0,
  "metadata": {
    "colab": {
      "provenance": [],
      "authorship_tag": "ABX9TyPzbvO/XFF4RH8teVSFEtop",
      "include_colab_link": true
    },
    "kernelspec": {
      "name": "python3",
      "display_name": "Python 3"
    },
    "language_info": {
      "name": "python"
    }
  },
  "cells": [
    {
      "cell_type": "markdown",
      "metadata": {
        "id": "view-in-github",
        "colab_type": "text"
      },
      "source": [
        "<a href=\"https://colab.research.google.com/github/Koushik-SCC/Some-Interesting-Stuff/blob/main/Divisible_integer.ipynb\" target=\"_parent\"><img src=\"https://colab.research.google.com/assets/colab-badge.svg\" alt=\"Open In Colab\"/></a>"
      ]
    },
    {
      "cell_type": "code",
      "execution_count": 3,
      "metadata": {
        "colab": {
          "base_uri": "https://localhost:8080/"
        },
        "id": "JRXmMPZL6Gc7",
        "outputId": "2cad2402-4e41-4933-948a-b7b2ba4b9be8"
      },
      "outputs": [
        {
          "output_type": "stream",
          "name": "stdout",
          "text": [
            "The smallest positive number that is divisible by all of the numbers from 1 to 20 is --- \n",
            "232792560\n"
          ]
        }
      ],
      "source": [
        "import numpy as np\n",
        "\n",
        "def find_int(a,b):\n",
        "    ran = np.arange(a,b+1)\n",
        "    x = b\n",
        "    while True:\n",
        "        remainder = x%ran\n",
        "        mean = np.mean(remainder)\n",
        "        if mean == 0:\n",
        "            break\n",
        "        else:\n",
        "            x += b\n",
        "    print('The smallest positive number that is divisible by all of the numbers from '+str(a)+' to '+str(b)+' is --- ')\n",
        "    return x\n",
        "\n",
        "print(find_int(1, 20))"
      ]
    }
  ]
}