{
  "nbformat": 4,
  "nbformat_minor": 0,
  "metadata": {
    "colab": {
      "provenance": [],
      "authorship_tag": "ABX9TyOZojfnlu0/dhgssUufMKAv",
      "include_colab_link": true
    },
    "kernelspec": {
      "name": "python3",
      "display_name": "Python 3"
    },
    "language_info": {
      "name": "python"
    }
  },
  "cells": [
    {
      "cell_type": "markdown",
      "metadata": {
        "id": "view-in-github",
        "colab_type": "text"
      },
      "source": [
        "<a href=\"https://colab.research.google.com/github/Koushik-SCC/Some-Interesting-Stuff/blob/main/Evenly_divisible_integer.ipynb\" target=\"_parent\"><img src=\"https://colab.research.google.com/assets/colab-badge.svg\" alt=\"Open In Colab\"/></a>"
      ]
    },
    {
      "cell_type": "code",
      "execution_count": 18,
      "metadata": {
        "colab": {
          "base_uri": "https://localhost:8080/"
        },
        "id": "JRXmMPZL6Gc7",
        "outputId": "c13e910e-6d92-42d6-fa43-6e699ef36cbf"
      },
      "outputs": [
        {
          "output_type": "stream",
          "name": "stdout",
          "text": [
            "The smallest positive number that is evenly divisible by all of the numbers from 1 to 15 is --- \n",
            "360360\n"
          ]
        }
      ],
      "source": [
        "import numpy as np\n",
        "\n",
        "def find_int(a,b):\n",
        "    ran = np.arange(a,b+1)\n",
        "    x = 1\n",
        "    while True:\n",
        "        remainder = x%ran\n",
        "        mean = np.mean(remainder)\n",
        "        if mean == 0:\n",
        "            break\n",
        "        else:\n",
        "            x += 1\n",
        "    print('The smallest positive number that is evenly divisible by all of the numbers from '+str(a)+' to '+str(b)+' is --- ')\n",
        "    return x\n",
        "\n",
        "print(find_int(1, 15))"
      ]
    }
  ]
}